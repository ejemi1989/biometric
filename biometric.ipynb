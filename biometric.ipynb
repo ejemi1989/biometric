{
  "nbformat": 4,
  "nbformat_minor": 0,
  "metadata": {
    "colab": {
      "provenance": []
    },
    "kernelspec": {
      "name": "python3",
      "display_name": "Python 3"
    },
    "language_info": {
      "name": "python"
    }
  },
  "cells": [
    {
      "cell_type": "markdown",
      "source": [
        "Data loading and preprocessing:"
      ],
      "metadata": {
        "id": "R7u74Q6mBBmU"
      }
    },
    {
      "cell_type": "code",
      "execution_count": null,
      "metadata": {
        "id": "sSODlKxVAizd"
      },
      "outputs": [],
      "source": [
        "import numpy as np\n",
        "import cv2\n",
        "\n",
        "def load_data(path):\n",
        "  # Load the images and labels from the specified directory\n",
        "  images = []\n",
        "  labels = []\n",
        "  for filename in os.listdir(path):\n",
        "    # Load the image and resize it to a fixed size\n",
        "    image = cv2.imread(os.path.join(path, filename))\n",
        "    image = cv2.resize(image, (224, 224))\n",
        "    # Extract the label from the filename\n",
        "    label = int(filename.split('_')[1])\n",
        "    # Add the image and label to the list\n",
        "    images.append(image)\n",
        "    labels.append(label)\n",
        "  # Convert the lists to numpy arrays\n",
        "  images = np.array(images)\n",
        "  labels = np.array(labels)\n",
        "  # Normalize the images\n",
        "  images = images / 255.0\n",
        "  return images, labels\n",
        "\n",
        "# Load the training and validation data\n",
        "train_images, train_labels = load_data('train')\n",
        "val_images, val_labels = load_data('val')\n"
      ]
    },
    {
      "cell_type": "markdown",
      "source": [
        "Model training:"
      ],
      "metadata": {
        "id": "yfYJEgW9Al_t"
      }
    },
    {
      "cell_type": "code",
      "source": [
        "import tensorflow as tf\n",
        "from tensorflow.keras.layers import Conv2D, MaxPooling2D, Flatten, Dense\n",
        "from tensorflow.keras.optimizers import Adam\n",
        "from tensorflow.keras.callbacks import EarlyStopping, ModelCheckpoint\n",
        "\n",
        "# Define the model architecture\n",
        "model = tf.keras.Sequential([\n",
        "  Conv2D(32, (3, 3), activation='relu', input_shape=(224, 224, 3)),\n",
        "  MaxPooling2D((2, 2)),\n",
        "  Conv2D(64, (3, 3), activation='relu'),\n",
        "  MaxPooling2D((2, 2)),\n",
        "  Flatten(),\n",
        "  Dense(128, activation='relu'),\n",
        "  Dense(num_classes, activation='softmax')\n",
        "])\n",
        "\n",
        "# Compile the model\n",
        "model.compile(optimizer=Adam(learning_rate=0.001),\n",
        "              loss='sparse_categorical_crossentropy',\n",
        "              metrics=['accuracy'])\n",
        "\n",
        "# Define the callbacks\n",
        "callbacks = [\n",
        "  EarlyStopping(patience=5),\n",
        "  ModelCheckpoint('model.h5', save_best_only=True)\n",
        "]\n",
        "\n",
        "# Train the model\n",
        "model.fit(train_images, train_labels,\n",
        "          validation_data=(val_images, val_labels),\n",
        "          epochs=50,\n",
        "          callbacks=callbacks)\n"
      ],
      "metadata": {
        "id": "4Qi0osbNAm_s"
      },
      "execution_count": null,
      "outputs": []
    },
    {
      "cell_type": "markdown",
      "source": [
        "Model evaluation:"
      ],
      "metadata": {
        "id": "VzCWD55nApv0"
      }
    },
    {
      "cell_type": "code",
      "source": [
        "# Evaluate the model on the test set\n",
        "test_loss, test_acc = model.evaluate(test_images, test_labels)\n",
        "print(f'Test loss: {test_loss:.4f}')\n",
        "print(f'Test accuracy: {test_acc:.4f}')\n"
      ],
      "metadata": {
        "id": "mdEK3sMYAqrM"
      },
      "execution_count": null,
      "outputs": []
    },
    {
      "cell_type": "markdown",
      "source": [
        "Model inference:"
      ],
      "metadata": {
        "id": "aHJmOT8eAuCc"
      }
    },
    {
      "cell_type": "code",
      "source": [
        "# Load the model\n",
        "model = tf.keras.models.load_model('model.h5')\n",
        "\n",
        "# Function to predict the label of an\n"
      ],
      "metadata": {
        "id": "u_HtlehlAuf1"
      },
      "execution_count": null,
      "outputs": []
    }
  ]
}